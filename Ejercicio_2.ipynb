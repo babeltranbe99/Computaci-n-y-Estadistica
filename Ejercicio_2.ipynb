{
  "nbformat": 4,
  "nbformat_minor": 0,
  "metadata": {
    "colab": {
      "name": "Ejercicio_2.ipynb",
      "provenance": []
    },
    "kernelspec": {
      "name": "python3",
      "display_name": "Python 3"
    },
    "language_info": {
      "name": "python"
    }
  },
  "cells": [
    {
      "cell_type": "markdown",
      "source": [
        "#Ejercicio #2\n",
        "##Brandon Andres Beltran Beltran"
      ],
      "metadata": {
        "id": "22Qg1eaarPL4"
      }
    },
    {
      "cell_type": "markdown",
      "source": [
        "##Llevar a codigo funcional las siguientes funciones "
      ],
      "metadata": {
        "id": "hiTuxJvDr9QH"
      }
    },
    {
      "cell_type": "markdown",
      "source": [
        " $$\\ y \\ =\\ log(x)$$\n",
        "####condición: $x>0$\n"
      ],
      "metadata": {
        "id": "Bi16AHtXu5cv"
      }
    },
    {
      "cell_type": "code",
      "source": [
        "from math import log\n",
        "from math import log10\n",
        "\n",
        "x = float(input(\"Ingrese x: \"))\n",
        "if x<=0:\n",
        "  print(\"fuera del dominio \")\n",
        "else:\n",
        "  y= log10(x)\n",
        "  print(\"y es: {:.4f}\".format(y))"
      ],
      "metadata": {
        "colab": {
          "base_uri": "https://localhost:8080/"
        },
        "id": "Vc-SJ0fzwF5C",
        "outputId": "9ac9667e-a18b-45e8-9878-0cd5866daf42"
      },
      "execution_count": 2,
      "outputs": [
        {
          "output_type": "stream",
          "name": "stdout",
          "text": [
            "Ingrese x: 6\n",
            "y es: 0.7782\n"
          ]
        }
      ]
    },
    {
      "cell_type": "markdown",
      "source": [
        "$$y =\\log\\sqrt{x}$$\n",
        "\n",
        "### Condición:\n",
        "1. $x>0$"
      ],
      "metadata": {
        "id": "6OJ1bxEjwXZZ"
      }
    },
    {
      "cell_type": "code",
      "source": [
        "from math import sqrt\n",
        "x = float(input(\"Ingrese x: \"))\n",
        "if x<=0:\n",
        "  print(\"fuera del dominio \")\n",
        "else:\n",
        "  y= log10(sqrt(x))\n",
        "  print(\"y es: {:.4f}\".format(y))"
      ],
      "metadata": {
        "colab": {
          "base_uri": "https://localhost:8080/"
        },
        "id": "plDQ-atcw4g3",
        "outputId": "2c28e1c0-53ee-48e3-a6ef-b8d41a535f02"
      },
      "execution_count": 6,
      "outputs": [
        {
          "output_type": "stream",
          "name": "stdout",
          "text": [
            "Ingrese x: 6\n",
            "y es: 0.3891\n"
          ]
        }
      ]
    },
    {
      "cell_type": "markdown",
      "source": [
        "$$y =\\log\\sqrt{x^2-1}$$\n",
        "\n",
        "### Condicion:\n",
        "1. $x\\neq 1$\n",
        "2. $x\\neq-1$\n",
        "3. $x\\neq 0$"
      ],
      "metadata": {
        "id": "i8UTT_xTx5X2"
      }
    },
    {
      "cell_type": "code",
      "source": [
        "from math import sqrt\n",
        "x = float(input(\"Ingrese x: \"))\n",
        "if (x==0) or (x==-1) or (x==1):\n",
        "  print(\"fuera del dominio \")\n",
        "else:\n",
        "  y= log10(sqrt((x**2)-1))\n",
        "  print(\"y es: {:.4f}\".format(y))"
      ],
      "metadata": {
        "colab": {
          "base_uri": "https://localhost:8080/"
        },
        "id": "U4aGOU7fyLQk",
        "outputId": "3a17501c-786c-4a9d-9ce9-62541c73312c"
      },
      "execution_count": 11,
      "outputs": [
        {
          "output_type": "stream",
          "name": "stdout",
          "text": [
            "Ingrese x: 5\n",
            "y es: 0.6901\n"
          ]
        }
      ]
    },
    {
      "cell_type": "markdown",
      "source": [
        "\n",
        "$$y=\\frac{\\log(\\sqrt{x-1})}{x^2+1}$$\n",
        "\n",
        "### Condicion:\n",
        "1. $x>1$"
      ],
      "metadata": {
        "id": "2NWXAUl-yzFc"
      }
    },
    {
      "cell_type": "code",
      "source": [
        "x = float(input(\"Ingrese x: \"))\n",
        "if x<=1:\n",
        "  print(\"fuera del dominio \")\n",
        "else:\n",
        "  y= log10(sqrt(x-1)) / ((x**2)+1)\n",
        "  print(\"y es: {:.4f}\".format(y))"
      ],
      "metadata": {
        "colab": {
          "base_uri": "https://localhost:8080/"
        },
        "id": "agFoOtNXy2RK",
        "outputId": "385e4a75-80a2-431f-fb70-5a28b61b615c"
      },
      "execution_count": 12,
      "outputs": [
        {
          "output_type": "stream",
          "name": "stdout",
          "text": [
            "Ingrese x: 5\n",
            "y es: 0.0116\n"
          ]
        }
      ]
    },
    {
      "cell_type": "markdown",
      "source": [
        "$$y =\\frac{x-1}{\\log(x)}$$\n",
        "\n",
        "### Condicion:\n",
        "1. $x>1$"
      ],
      "metadata": {
        "id": "vCijVwo_zFtQ"
      }
    },
    {
      "cell_type": "code",
      "source": [
        "x = float(input(\"Ingrese x: \"))\n",
        "if x<=1:\n",
        "  print(\"fuera del dominio \")\n",
        "else:\n",
        "  y= (x-1)/log10(x)\n",
        "  print(\"y es: {:.4f}\".format(y))"
      ],
      "metadata": {
        "colab": {
          "base_uri": "https://localhost:8080/"
        },
        "id": "DQEnoQwEzIne",
        "outputId": "032ef7c9-68d7-4dd4-c6d9-33ad8528a3f9"
      },
      "execution_count": 13,
      "outputs": [
        {
          "output_type": "stream",
          "name": "stdout",
          "text": [
            "Ingrese x: 2\n",
            "y es: 3.3219\n"
          ]
        }
      ]
    },
    {
      "cell_type": "markdown",
      "source": [
        "\n",
        "$$y =\\frac{1}{x}+\\sqrt{x-1}$$\n",
        "\n",
        "### Condicion:\n",
        "1. $x>1$"
      ],
      "metadata": {
        "id": "-HZsPYIVzZCJ"
      }
    },
    {
      "cell_type": "code",
      "source": [
        "x = float(input(\"Ingrese x: \"))\n",
        "if x<1:\n",
        "  print(\"fuera del dominio \")\n",
        "else:\n",
        "  y= (1/x)+sqrt(x-1)\n",
        "  print(\"y es: {:.4f}\".format(y))"
      ],
      "metadata": {
        "colab": {
          "base_uri": "https://localhost:8080/"
        },
        "id": "glUlOAoNzboA",
        "outputId": "942e36a7-7b71-4831-fe46-d0e4100b1fdd"
      },
      "execution_count": 14,
      "outputs": [
        {
          "output_type": "stream",
          "name": "stdout",
          "text": [
            "Ingrese x: 3\n",
            "y es: 1.7475\n"
          ]
        }
      ]
    },
    {
      "cell_type": "markdown",
      "source": [
        "\n",
        "$$y =\\frac{1}{x}+\\sqrt{x-1}-\\frac{1}{\\log(\\frac{1}{x+1})}$$\n",
        "\n",
        "### Condicion:\n",
        "1. $x>0$"
      ],
      "metadata": {
        "id": "vEqJ8dOFz0_l"
      }
    },
    {
      "cell_type": "code",
      "source": [
        "x = float(input(\"Ingrese x: \"))\n",
        "if x<1:\n",
        "  print(\"fuera del dominio \")\n",
        "else:\n",
        "  y= (1/x)+sqrt(x-1)-1/log10(1/(x+1))\n",
        "  print(\"y es: {:.4f}\".format(y))"
      ],
      "metadata": {
        "colab": {
          "base_uri": "https://localhost:8080/"
        },
        "id": "pgdH56DXz5S8",
        "outputId": "2d18dc4a-ce88-4ba3-d190-55ccdb9ca679"
      },
      "execution_count": 18,
      "outputs": [
        {
          "output_type": "stream",
          "name": "stdout",
          "text": [
            "Ingrese x: 6\n",
            "y es: 3.5860\n"
          ]
        }
      ]
    },
    {
      "cell_type": "markdown",
      "source": [
        "$$y =\\frac{2}{x^2+1}$$"
      ],
      "metadata": {
        "id": "K_475Vs40l5M"
      }
    },
    {
      "cell_type": "code",
      "source": [
        "x = float(input(\"Ingrese x: \"))\n",
        "y= 2/((x**2)+1)\n",
        "print(\"y es: {:.4f}\".format(y))"
      ],
      "metadata": {
        "colab": {
          "base_uri": "https://localhost:8080/"
        },
        "id": "ap-paNVi0kxe",
        "outputId": "f17a58e1-1c2f-46b0-eb00-f145ced967c3"
      },
      "execution_count": 19,
      "outputs": [
        {
          "output_type": "stream",
          "name": "stdout",
          "text": [
            "Ingrese x: 8\n",
            "y es: 0.0308\n"
          ]
        }
      ]
    },
    {
      "cell_type": "markdown",
      "source": [
        "#Problema1.1"
      ],
      "metadata": {
        "id": "PQpSp5HRDDbD"
      }
    },
    {
      "cell_type": "code",
      "source": [
        "import math\n",
        "import numpy \n",
        "import random\n",
        "import matplotlib.pyplot as plt\n",
        "\n",
        "def variance(n):\n",
        "  var = numpy.random.normal(3,0.3,2)\n",
        "  list_var = [var[0], var[1]]\n",
        "  list_g = numpy.random.normal(3,0.3,n)\n",
        "  for i in range(n):\n",
        "    list_var.append(list_g[i])\n",
        "    print( numpy.var(list_var))\n",
        "  import matplotlib.pyplot as plt\n",
        "  plt.plot(list_var, range(n+2), 'pr')\n",
        "  plt.xlabel('Varianza')\n",
        "  plt.ylabel('N')\n",
        "  plt.show()\n",
        "variance(50)"
      ],
      "metadata": {
        "colab": {
          "base_uri": "https://localhost:8080/",
          "height": 1000
        },
        "id": "vOV_dmH9C1l5",
        "outputId": "4adb5805-59d9-4199-edce-11fe01b12654"
      },
      "execution_count": 20,
      "outputs": [
        {
          "output_type": "stream",
          "name": "stdout",
          "text": [
            "0.005580676118063031\n",
            "0.004424024497179516\n",
            "0.3243873775203997\n",
            "0.296775987126391\n",
            "0.2552670998980409\n",
            "0.22449366425740408\n",
            "0.20451854226804378\n",
            "0.21837999273686082\n",
            "0.22790870978450675\n",
            "0.20893855615527013\n",
            "0.19710881561047244\n",
            "0.2118590685473339\n",
            "0.20107371641607882\n",
            "0.18853322718076215\n",
            "0.1814893189914138\n",
            "0.18792440428993384\n",
            "0.1781862324374827\n",
            "0.16967310721884515\n",
            "0.17959727591631378\n",
            "0.17320926761337715\n",
            "0.1657696512842459\n",
            "0.15889986569749281\n",
            "0.15971198641405662\n",
            "0.16221470137330665\n",
            "0.15710437071966885\n",
            "0.16065174216420677\n",
            "0.16093160085775166\n",
            "0.15995609999695642\n",
            "0.15550532806892828\n",
            "0.15535296649803512\n",
            "0.15075296734115473\n",
            "0.14650800589735216\n",
            "0.1425565110005048\n",
            "0.14335418083196733\n",
            "0.14033207666909403\n",
            "0.136956032040959\n",
            "0.14516766212502735\n",
            "0.14179453004863152\n",
            "0.139075518660592\n",
            "0.1367632426198206\n",
            "0.13584098530747213\n",
            "0.13650916447583508\n",
            "0.13468091999925733\n",
            "0.13325569003258372\n",
            "0.13114317955404411\n",
            "0.12841284471735362\n",
            "0.12579229653940446\n",
            "0.12381553147025355\n",
            "0.12304856449128054\n",
            "0.12212809630138267\n"
          ]
        },
        {
          "output_type": "display_data",
          "data": {
            "text/plain": [
              "<Figure size 432x288 with 1 Axes>"
            ],
            "image/png": "[encoded data removed]"
          },
          "metadata": {
            "needs_background": "light"
          }
        }
      ]
    },
    {
      "cell_type": "code",
      "source": [
        "import numpy\n",
        "\n",
        "def absorbance(T, *args, **kwargs):\n",
        "    if str(type(T))[8:12] != 'list':\n",
        "        return f'ingresar lista de transmitancias'\n",
        "    else:\n",
        "        import matplotlib.pyplot as plt\n",
        "        import math\n",
        "        transmittance = []\n",
        "        absorbance = []\n",
        "        for i in range(len(T)):\n",
        "            transmittance.append(T[i])\n",
        "            A = 2 - math.log10(T[i])\n",
        "            absorbance.append(A)\n",
        "        plt.plot(absorbance, transmittance, 'pr') \n",
        "        plt.title('Absorbancia vs transmmitancia')  \n",
        "        plt.xlabel('Absorvancia')\n",
        "        plt.ylabel('trasmitancia') \n",
        "        plt.show()\n",
        "\n",
        "T = numpy.random.uniform(50,150,180)\n",
        "absorbance(T =list(T))\n"
      ],
      "metadata": {
        "colab": {
          "base_uri": "https://localhost:8080/",
          "height": 295
        },
        "id": "mCvxnlNfC9R_",
        "outputId": "fdcf2be8-1aa9-4bfa-c55a-a0a5c7d9425b"
      },
      "execution_count": 27,
      "outputs": [
        {
          "output_type": "display_data",
          "data": {
            "text/plain": [
              "<Figure size 432x288 with 1 Axes>"
            ],
            "image/png": "[encoded data removed]"
          },
          "metadata": {
            "needs_background": "light"
          }
        }
      ]
    }
  ]
}